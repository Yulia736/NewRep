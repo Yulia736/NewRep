{
  "nbformat": 4,
  "nbformat_minor": 0,
  "metadata": {
    "colab": {
      "name": "Swot-shop.ipynb",
      "provenance": [],
      "collapsed_sections": [],
      "authorship_tag": "ABX9TyNUE2BGjbJhXodnafFc0Ihb",
      "include_colab_link": true
    },
    "kernelspec": {
      "name": "python3",
      "display_name": "Python 3"
    }
  },
  "cells": [
    {
      "cell_type": "markdown",
      "metadata": {
        "id": "view-in-github",
        "colab_type": "text"
      },
      "source": [
        "<a href=\"https://colab.research.google.com/github/Yulia736/NewRep/blob/master/Swot_shop.ipynb\" target=\"_parent\"><img src=\"https://colab.research.google.com/assets/colab-badge.svg\" alt=\"Open In Colab\"/></a>"
      ]
    },
    {
      "cell_type": "code",
      "metadata": {
        "colab": {
          "base_uri": "https://localhost:8080/",
          "height": 0
        },
        "id": "NuL50bTh0bKs",
        "outputId": "68689d26-2870-48b1-b984-d17495f8e99b"
      },
      "source": [
        "print(\"ФИО: Яшкова Юлия Михайловна\")\r\n",
        "print(\"Группа: 20БИ-3\")\r\n",
        "!ln -fs /usr/share/zoneinfo/Europe/Moscow /etc/localtime\r\n",
        "!date\r\n"
      ],
      "execution_count": 1,
      "outputs": [
        {
          "output_type": "stream",
          "text": [
            "ФИО: Яшкова Юлия Михайловна\n",
            "Группа: 20БИ-3\n",
            "Wed Mar  3 19:00:54 MSK 2021\n"
          ],
          "name": "stdout"
        }
      ]
    },
    {
      "cell_type": "code",
      "metadata": {
        "colab": {
          "base_uri": "https://localhost:8080/",
          "height": 0
        },
        "id": "PVbZymJe0iS1",
        "outputId": "da9c00c9-3189-413f-882b-8cdc4cb9c9f9"
      },
      "source": [
        "from google.colab import drive\r\n",
        "drive.mount('/content/drive/')\r\n",
        "import os\r\n",
        "print(os.getcwd())\r\n",
        "print(os.listdir('./'))\r\n",
        "print(os.listdir('/content/drive'))\r\n",
        "print(os.listdir('/content/drive/MyDrive/Colab Notebooks/swot'))"
      ],
      "execution_count": 4,
      "outputs": [
        {
          "output_type": "stream",
          "text": [
            "Drive already mounted at /content/drive/; to attempt to forcibly remount, call drive.mount(\"/content/drive/\", force_remount=True).\n",
            "/content\n",
            "['.config', 'drive', 'sample_data']\n",
            "['.shortcut-targets-by-id', 'MyDrive', '.file-revisions-by-id', '.Trash']\n",
            "['Swot-магодежды.gsheet', 'Swot-shop.ipynb']\n"
          ],
          "name": "stdout"
        }
      ]
    },
    {
      "cell_type": "code",
      "metadata": {
        "colab": {
          "base_uri": "https://localhost:8080/",
          "height": 0
        },
        "id": "6cpOOHPf8Enc",
        "outputId": "50d52479-c98c-4ad9-90ce-c4fab550e50f"
      },
      "source": [
        "import os\r\n",
        "import time\r\n",
        "from google.colab import auth\r\n",
        "auth.authenticate_user()\r\n",
        "!pip install --upgrade gspread\r\n",
        "import gspread\r\n",
        "from oauth2client.client import GoogleCredentials\r\n",
        "print('\\nРабота с таблицей')\r\n",
        "%ll -lAF /content/drive/MyDrive/\"Colab Notebooks\"/swot/\r\n",
        "gs = gspread.authorize(GoogleCredentials.get_application_default())\r\n",
        "os.stat('/content/drive/MyDrive/Colab Notebooks/swot/Swot-магодежды.gsheet')\r\n",
        "table = gs.open_by_key('1aW-c_s-uXCr4shaKH2fUNfgzccErAGGox1DGkAaY8-M')\r\n",
        "print(dir(table))\r\n",
        "worksheet = table.worksheet('Swotlist')\r\n",
        "rows = worksheet.get_all_values()\r\n",
        "print(rows)\r\n",
        "strength = [0] * 6\r\n",
        "s=0\r\n",
        "opportunities = [0] * 6\r\n",
        "o = 0\r\n",
        "weakness = [0] * 6\r\n",
        "w = 0\r\n",
        "threats = [0] * 6\r\n",
        "t = 0\r\n",
        "flag = 'strength'\r\n",
        "for i in rows:\r\n",
        "  if i[0] == 'strength':\r\n",
        "    flag = 'strength'\r\n",
        "  if i[0] == 'weakness':\r\n",
        "    flag = 'weakness'\r\n",
        "  if i[0] == 'opportunities':\r\n",
        "    flag = 'opportunities'\r\n",
        "  if i[0] == 'threats':\r\n",
        "    flag = 'threats'\r\n",
        "  if flag == 'strength' and i[4] != '' and i[4] != 'power':\r\n",
        "    strength[s] = i[4]\r\n",
        "    s = s + 1\r\n",
        "  if flag == 'opportunities' and i[4] != '' and i[4] != 'power':\r\n",
        "    opportunities[o] = i[4]\r\n",
        "    o = o + 1\r\n",
        "  if flag == 'weakness' and i[4] != '' and i[4] != 'power':\r\n",
        "    weakness[w] = i[4]\r\n",
        "    w = w + 1\r\n",
        "  if flag == 'threats' and i[4] != '' and i[4] != 'power':\r\n",
        "    threats[t] = i[4]\r\n",
        "    t = t + 1\r\n",
        "print(strength)\r\n",
        "print(opportunities)\r\n",
        "print(weakness)\r\n",
        "print(threats)\r\n",
        "streng = 0\r\n",
        "opport = 0\r\n",
        "weak = 0\r\n",
        "threat = 0\r\n",
        "for i in strength:\r\n",
        "  streng = streng + float(i)\r\n",
        "for i in opportunities:\r\n",
        "  opport = opport + float(i)\r\n",
        "for i in weakness:\r\n",
        "  weak = weak + float(i)\r\n",
        "for i in threats:\r\n",
        "  threat = threat + float(i)\r\n",
        "worksheet.update('A43', 'strength ' + str(s))\r\n",
        "worksheet.update('B43', 'weakness ' + str(w))\r\n",
        "worksheet.update('C43', 'opportunities ' + str(o))\r\n",
        "worksheet.update('D43', 'threats ' + str(t))\r\n",
        "worksheet.update('A44', 'sum power ' + str(s + o - w - t))\r\n",
        "prob = (s + o) / (s + o + w + t)\r\n",
        "worksheet.update('B44', 'Probability of good result ' + str(prob))"
      ],
      "execution_count": 26,
      "outputs": [
        {
          "output_type": "stream",
          "text": [
            "Requirement already up-to-date: gspread in /usr/local/lib/python3.7/dist-packages (3.7.0)\n",
            "Requirement already satisfied, skipping upgrade: google-auth-oauthlib>=0.4.1 in /usr/local/lib/python3.7/dist-packages (from gspread) (0.4.2)\n",
            "Requirement already satisfied, skipping upgrade: google-auth>=1.12.0 in /usr/local/lib/python3.7/dist-packages (from gspread) (1.27.0)\n",
            "Requirement already satisfied, skipping upgrade: requests-oauthlib>=0.7.0 in /usr/local/lib/python3.7/dist-packages (from google-auth-oauthlib>=0.4.1->gspread) (1.3.0)\n",
            "Requirement already satisfied, skipping upgrade: cachetools<5.0,>=2.0.0 in /usr/local/lib/python3.7/dist-packages (from google-auth>=1.12.0->gspread) (4.2.1)\n",
            "Requirement already satisfied, skipping upgrade: rsa<5,>=3.1.4; python_version >= \"3.6\" in /usr/local/lib/python3.7/dist-packages (from google-auth>=1.12.0->gspread) (4.7.2)\n",
            "Requirement already satisfied, skipping upgrade: setuptools>=40.3.0 in /usr/local/lib/python3.7/dist-packages (from google-auth>=1.12.0->gspread) (54.0.0)\n",
            "Requirement already satisfied, skipping upgrade: pyasn1-modules>=0.2.1 in /usr/local/lib/python3.7/dist-packages (from google-auth>=1.12.0->gspread) (0.2.8)\n",
            "Requirement already satisfied, skipping upgrade: six>=1.9.0 in /usr/local/lib/python3.7/dist-packages (from google-auth>=1.12.0->gspread) (1.15.0)\n",
            "Requirement already satisfied, skipping upgrade: oauthlib>=3.0.0 in /usr/local/lib/python3.7/dist-packages (from requests-oauthlib>=0.7.0->google-auth-oauthlib>=0.4.1->gspread) (3.1.0)\n",
            "Requirement already satisfied, skipping upgrade: requests>=2.0.0 in /usr/local/lib/python3.7/dist-packages (from requests-oauthlib>=0.7.0->google-auth-oauthlib>=0.4.1->gspread) (2.23.0)\n",
            "Requirement already satisfied, skipping upgrade: pyasn1>=0.1.3 in /usr/local/lib/python3.7/dist-packages (from rsa<5,>=3.1.4; python_version >= \"3.6\"->google-auth>=1.12.0->gspread) (0.4.8)\n",
            "Requirement already satisfied, skipping upgrade: certifi>=2017.4.17 in /usr/local/lib/python3.7/dist-packages (from requests>=2.0.0->requests-oauthlib>=0.7.0->google-auth-oauthlib>=0.4.1->gspread) (2020.12.5)\n",
            "Requirement already satisfied, skipping upgrade: chardet<4,>=3.0.2 in /usr/local/lib/python3.7/dist-packages (from requests>=2.0.0->requests-oauthlib>=0.7.0->google-auth-oauthlib>=0.4.1->gspread) (3.0.4)\n",
            "Requirement already satisfied, skipping upgrade: urllib3!=1.25.0,!=1.25.1,<1.26,>=1.21.1 in /usr/local/lib/python3.7/dist-packages (from requests>=2.0.0->requests-oauthlib>=0.7.0->google-auth-oauthlib>=0.4.1->gspread) (1.24.3)\n",
            "Requirement already satisfied, skipping upgrade: idna<3,>=2.5 in /usr/local/lib/python3.7/dist-packages (from requests>=2.0.0->requests-oauthlib>=0.7.0->google-auth-oauthlib>=0.4.1->gspread) (2.10)\n",
            "\n",
            "Работа с таблицей\n",
            "total 15\n",
            "-rw------- 1 root 14655 Mar  3 22:29 Swot-shop.ipynb\n",
            "-rw------- 1 root   151 Mar  3 22:29 Swot-магодежды.gsheet\n",
            "['__class__', '__delattr__', '__dict__', '__dir__', '__doc__', '__eq__', '__format__', '__ge__', '__getattribute__', '__gt__', '__hash__', '__init__', '__init_subclass__', '__iter__', '__le__', '__lt__', '__module__', '__ne__', '__new__', '__reduce__', '__reduce_ex__', '__repr__', '__setattr__', '__sizeof__', '__str__', '__subclasshook__', '__weakref__', '_properties', '_spreadsheets_get', '_spreadsheets_sheets_copy_to', 'add_worksheet', 'batch_update', 'client', 'del_worksheet', 'duplicate_sheet', 'fetch_sheet_metadata', 'get_worksheet', 'id', 'list_permissions', 'remove_permissions', 'reorder_worksheets', 'share', 'sheet1', 'title', 'updated', 'url', 'values_append', 'values_batch_get', 'values_batch_update', 'values_clear', 'values_get', 'values_update', 'worksheet', 'worksheets']\n",
            "[['Магазин одежды', '', '', '', ''], ['strength', '', '', '', ''], ['name', 'actions', 'importance', 'probability', 'power'], ['Большая база производителей ', 'Возможность выбора товара лучшего качества', '7', '0.6', '4.2'], ['Большой диапазон цен ', 'Превлечение покупателей разных слоев общества ', '8', '0.9', '7.2'], ['Постоянная потребность людей в одежде', 'Продажа по большей части тех моделей, которые всегда актуальны', '8', '0.8', '6.4'], ['Возможность получения прибыли', 'Продажа оптом и в розницу', '10', '0.99', '9.9'], ['weakness', '', '', '', ''], ['name', 'actions', 'importance', 'probability', 'power'], ['Неопытные специалисты по продажам', 'Обучение, повышение квалификации', '5', '0.6', '3'], ['Дорогая аренда ', 'На началах аренда не в самом центре города', '4', '0.8', '3.2'], ['Потеря энергоснабжения', 'Маловероятно ', '1', '0.1', '0.1'], ['Бракованный товар', 'Проверка каждого товара при поступлении', '4', '0.5', '2'], ['opportunities', '', '', '', ''], ['name', 'actions', 'importance', 'probability', 'power'], ['Получение кредита ', 'Выгодные условия, так как поддержка малого бизнеса', '8', '0.7', '5.6'], ['Возможность быстро организовать технологический процесс', 'Легкодоступность всего оборудования ', '7', '0.7', '4.9'], ['Развитие бренда до мирового класса', 'Повышение качества товара, обслуживания, реклама ', '6', '0.4', '2.4'], ['Доставка', 'Досавка по городу, почтой по стране ', '7', '0.8', '5.6'], ['threats', '', '', '', ''], ['name', 'actions', 'importance', 'probability', 'power'], ['Большая конкуренция', 'Улучшение качества обслуживание покупателей, приемлемые цены, акции, распродажи, оформление соц сетей', '6', '0.8', '4.8'], ['Недобросовестные клиенты', 'Охрана в магазине', '5', '0.5', '2.5'], ['Пандемия ', 'Онлайн продажи, доставка, введение соц сетей', '4', '0.3', '1.2'], ['Угроза появления субститутов (заменителей )', 'Угрозы практически нет, ассортимент везде примерно одинаковый ', '1', '0.1', '0.1'], ['', '', '', '', ''], ['', '', '', '', ''], ['', '', '', '', ''], ['', '', '', '', ''], ['', '', '', '', ''], ['', '', '', '', ''], ['', '', '', '', ''], ['', '', '', '', ''], ['', '', '', '', ''], ['', '', '', '', ''], ['', '', '', '', ''], ['', '', '', '', ''], ['', '', '', '', ''], ['', '', '', '', ''], ['', '', '', '', ''], ['', '', '', '', ''], ['', '', '', '', ''], ['strength 4', 'weakness 4', 'opportunities 4', 'threats 4', ''], ['sum power 0', '', '', '', '']]\n",
            "['4.2', '7.2', '6.4', '9.9', 0, 0]\n",
            "['5.6', '4.9', '2.4', '5.6', 0, 0]\n",
            "['3', '3.2', '0.1', '2', 0, 0]\n",
            "['4.8', '2.5', '1.2', '0.1', 0, 0]\n"
          ],
          "name": "stdout"
        },
        {
          "output_type": "execute_result",
          "data": {
            "text/plain": [
              "{'spreadsheetId': '1aW-c_s-uXCr4shaKH2fUNfgzccErAGGox1DGkAaY8-M',\n",
              " 'updatedCells': 1,\n",
              " 'updatedColumns': 1,\n",
              " 'updatedRange': 'Swotlist!B44',\n",
              " 'updatedRows': 1}"
            ]
          },
          "metadata": {
            "tags": []
          },
          "execution_count": 26
        }
      ]
    },
    {
      "cell_type": "code",
      "metadata": {
        "colab": {
          "base_uri": "https://localhost:8080/",
          "height": 1098
        },
        "id": "IJv27NM9lBWH",
        "outputId": "0ae44211-7b22-4b0c-e4ba-05870c0f7de0"
      },
      "source": [
        "import os\r\n",
        "import time\r\n",
        "from google.colab import auth\r\n",
        "auth.authenticate_user()\r\n",
        "!pip install --upgrade gspread\r\n",
        "import gspread\r\n",
        "from oauth2client.client import GoogleCredentials\r\n",
        "print('\\nРаботаем с таблицей')\r\n",
        "%ll -lAF /content/drive/MyDrive/Colab Notebooks/project\r\n",
        "gs = gspread.authorize(GoogleCredentials.get_application_default())\r\n",
        "os.stat('/content/drive/MyDrive/Colab Notebooks/swot/Swot-магодежды.gsheet')\r\n",
        "table = gs.open_by_key('1aW-c_s-uXCr4shaKH2fUNfgzccErAGGox1DGkAaY8-M')\r\n",
        "print(dir(table))\r\n",
        "worksheet = table.worksheet('Swotlist')\r\n",
        "rows = worksheet.get_all_values()\r\n",
        "print(rows)\r\n",
        "strength = [0] * 6\r\n",
        "s = 0\r\n",
        "opportunities = [0] * 6\r\n",
        "o = 0\r\n",
        "weakness = [0] * 6\r\n",
        "w = 0\r\n",
        "threats = [0] * 6\r\n",
        "t = 0\r\n",
        "flag = 'strength'\r\n",
        "for i in rows:\r\n",
        "  if i[0] == 'strength':\r\n",
        "    flag = 'strength'\r\n",
        "  if i[0] == 'weakness':\r\n",
        "    flag = 'weakness'\r\n",
        "  if i[0] == 'opportunities':\r\n",
        "    flag = 'opportunities'\r\n",
        "  if i[0] == 'threats':\r\n",
        "    flag = 'threats'\r\n",
        "  if flag == 'strength' and i[4] != '' and i[4] != 'power':\r\n",
        "    strength[s] = i[4]\r\n",
        "    s = s + 1\r\n",
        "  if flag == 'opportunities' and i[4] != '' and i[4] != 'power':\r\n",
        "    opportunities[o] = i[4]\r\n",
        "    o = o + 1\r\n",
        "  if flag == 'weakness' and i[4] != '' and i[4] != 'power':\r\n",
        "    weakness[w] = i[4]\r\n",
        "    w = w + 1\r\n",
        "  if flag == 'threats' and i[4] != '' and i[4] != 'power':\r\n",
        "    threats[t] = i[4]\r\n",
        "    t = t + 1\r\n",
        "print(strength)\r\n",
        "print(opportunities)\r\n",
        "print(weakness)\r\n",
        "print(threats)\r\n",
        "streng = 0\r\n",
        "opport = 0\r\n",
        "weak = 0\r\n",
        "threat = 0\r\n",
        "for i in strength:\r\n",
        "  streng = streng + float(i)\r\n",
        "for i in opportunities:\r\n",
        "  opport = opport + float(i)\r\n",
        "for i in weakness:\r\n",
        "  weak = weak + float(i)\r\n",
        "for i in threats:\r\n",
        "  threat = threat + float(i)\r\n",
        "  import matplotlib.pyplot as plt\r\n",
        "x=list()\r\n",
        "x_float=list()\r\n",
        "title=list()\r\n",
        "y_float=list()\r\n",
        "    \r\n",
        "title = [ \"strengths\", \"weaknesses\", \"opportunities\", \"threats\", \"result\"]\r\n",
        "x=title\r\n",
        "x_float = [1, 2, 3, 4, 5]\r\n",
        "result = streng - 1*weak + opport - 1*threat\r\n",
        "y = [streng, weak, opport, threat]\r\n",
        "y_float = [streng, -1*weak, opport, -1*threat,  result]\r\n",
        "print(x_float,title,y_float)\r\n",
        "print('списки формированы-->\\n')\r\n",
        "x_pos=list()\r\n",
        "for i in range(x_float.__len__()):\r\n",
        "    x_pos.append(i)\r\n",
        "print('<!--разбивка по абсцисс и значения ординат\\n', len( x_float), x_pos, y_float, ' -->\\n')\r\n",
        "\r\n",
        "fig=plt.figure(figsize=(8,6), dpi=72)\r\n",
        "plt.bar(x_pos, y_float, width=0.75, align='edge', alpha=0.4)\r\n",
        "plt.xticks(x_pos,  x_float, fontsize=14)\r\n",
        "plt.xlabel('Обозначения1', fontsize=14)\r\n",
        "plt.ylabel('Мощность воздействия', fontsize=14)\r\n",
        "plt.title('SWOT', fontsize=14)\r\n",
        "plt.grid(True, color='r', linestyle='-', linewidth=2)\r\n",
        "#plt.draw()\r\n",
        "plt.show()\r\n",
        "fig.savefig(\"/content/drive/MyDrive/Colab Notebooks/swot/shopbar_swot.png\")\r\n",
        "print('<div class=\"d-flex flex-row \">')\r\n",
        "print('<div class=\"card m-1\" style=\"width: 28rem;\">',\r\n",
        "      '<img  src=\"/content/drive/MyDrive/Colab Notebooks/project/shopbar_swot.png\" class=\"card-img-top\" alt=\"...\">',\r\n",
        "      '<div class=\"card-body\">')\r\n",
        "    \r\n",
        "for i in range(title.__len__()):\r\n",
        "    print(i+1, \" - \", title[i], \"; \")\r\n",
        "    i += 1\r\n",
        "print('</div>', '</div>')\r\n",
        "print('<div>')"
      ],
      "execution_count": 29,
      "outputs": [
        {
          "output_type": "stream",
          "text": [
            "Requirement already up-to-date: gspread in /usr/local/lib/python3.7/dist-packages (3.7.0)\n",
            "Requirement already satisfied, skipping upgrade: google-auth-oauthlib>=0.4.1 in /usr/local/lib/python3.7/dist-packages (from gspread) (0.4.2)\n",
            "Requirement already satisfied, skipping upgrade: google-auth>=1.12.0 in /usr/local/lib/python3.7/dist-packages (from gspread) (1.27.0)\n",
            "Requirement already satisfied, skipping upgrade: requests-oauthlib>=0.7.0 in /usr/local/lib/python3.7/dist-packages (from google-auth-oauthlib>=0.4.1->gspread) (1.3.0)\n",
            "Requirement already satisfied, skipping upgrade: rsa<5,>=3.1.4; python_version >= \"3.6\" in /usr/local/lib/python3.7/dist-packages (from google-auth>=1.12.0->gspread) (4.7.2)\n",
            "Requirement already satisfied, skipping upgrade: six>=1.9.0 in /usr/local/lib/python3.7/dist-packages (from google-auth>=1.12.0->gspread) (1.15.0)\n",
            "Requirement already satisfied, skipping upgrade: pyasn1-modules>=0.2.1 in /usr/local/lib/python3.7/dist-packages (from google-auth>=1.12.0->gspread) (0.2.8)\n",
            "Requirement already satisfied, skipping upgrade: cachetools<5.0,>=2.0.0 in /usr/local/lib/python3.7/dist-packages (from google-auth>=1.12.0->gspread) (4.2.1)\n",
            "Requirement already satisfied, skipping upgrade: setuptools>=40.3.0 in /usr/local/lib/python3.7/dist-packages (from google-auth>=1.12.0->gspread) (54.0.0)\n",
            "Requirement already satisfied, skipping upgrade: oauthlib>=3.0.0 in /usr/local/lib/python3.7/dist-packages (from requests-oauthlib>=0.7.0->google-auth-oauthlib>=0.4.1->gspread) (3.1.0)\n",
            "Requirement already satisfied, skipping upgrade: requests>=2.0.0 in /usr/local/lib/python3.7/dist-packages (from requests-oauthlib>=0.7.0->google-auth-oauthlib>=0.4.1->gspread) (2.23.0)\n",
            "Requirement already satisfied, skipping upgrade: pyasn1>=0.1.3 in /usr/local/lib/python3.7/dist-packages (from rsa<5,>=3.1.4; python_version >= \"3.6\"->google-auth>=1.12.0->gspread) (0.4.8)\n",
            "Requirement already satisfied, skipping upgrade: certifi>=2017.4.17 in /usr/local/lib/python3.7/dist-packages (from requests>=2.0.0->requests-oauthlib>=0.7.0->google-auth-oauthlib>=0.4.1->gspread) (2020.12.5)\n",
            "Requirement already satisfied, skipping upgrade: urllib3!=1.25.0,!=1.25.1,<1.26,>=1.21.1 in /usr/local/lib/python3.7/dist-packages (from requests>=2.0.0->requests-oauthlib>=0.7.0->google-auth-oauthlib>=0.4.1->gspread) (1.24.3)\n",
            "Requirement already satisfied, skipping upgrade: chardet<4,>=3.0.2 in /usr/local/lib/python3.7/dist-packages (from requests>=2.0.0->requests-oauthlib>=0.7.0->google-auth-oauthlib>=0.4.1->gspread) (3.0.4)\n",
            "Requirement already satisfied, skipping upgrade: idna<3,>=2.5 in /usr/local/lib/python3.7/dist-packages (from requests>=2.0.0->requests-oauthlib>=0.7.0->google-auth-oauthlib>=0.4.1->gspread) (2.10)\n",
            "\n",
            "Работаем с таблицей\n",
            "ls: cannot access '/content/drive/MyDrive/Colab': No such file or directory\n",
            "ls: cannot access 'Notebooks/project': No such file or directory\n",
            "['__class__', '__delattr__', '__dict__', '__dir__', '__doc__', '__eq__', '__format__', '__ge__', '__getattribute__', '__gt__', '__hash__', '__init__', '__init_subclass__', '__iter__', '__le__', '__lt__', '__module__', '__ne__', '__new__', '__reduce__', '__reduce_ex__', '__repr__', '__setattr__', '__sizeof__', '__str__', '__subclasshook__', '__weakref__', '_properties', '_spreadsheets_get', '_spreadsheets_sheets_copy_to', 'add_worksheet', 'batch_update', 'client', 'del_worksheet', 'duplicate_sheet', 'fetch_sheet_metadata', 'get_worksheet', 'id', 'list_permissions', 'remove_permissions', 'reorder_worksheets', 'share', 'sheet1', 'title', 'updated', 'url', 'values_append', 'values_batch_get', 'values_batch_update', 'values_clear', 'values_get', 'values_update', 'worksheet', 'worksheets']\n",
            "[['Магазин одежды', '', '', '', ''], ['strength', '', '', '', ''], ['name', 'actions', 'importance', 'probability', 'power'], ['Большая база производителей ', 'Возможность выбора товара лучшего качества', '7', '0.6', '4.2'], ['Большой диапазон цен ', 'Превлечение покупателей разных слоев общества ', '8', '0.9', '7.2'], ['Постоянная потребность людей в одежде', 'Продажа по большей части тех моделей, которые всегда актуальны', '8', '0.8', '6.4'], ['Возможность получения прибыли', 'Продажа оптом и в розницу', '10', '0.99', '9.9'], ['weakness', '', '', '', ''], ['name', 'actions', 'importance', 'probability', 'power'], ['Неопытные специалисты по продажам', 'Обучение, повышение квалификации', '5', '0.6', '3'], ['Дорогая аренда ', 'На началах аренда не в самом центре города', '4', '0.8', '3.2'], ['Потеря энергоснабжения', 'Маловероятно ', '1', '0.1', '0.1'], ['Бракованный товар', 'Проверка каждого товара при поступлении', '4', '0.5', '2'], ['opportunities', '', '', '', ''], ['name', 'actions', 'importance', 'probability', 'power'], ['Получение кредита ', 'Выгодные условия, так как поддержка малого бизнеса', '8', '0.7', '5.6'], ['Возможность быстро организовать технологический процесс', 'Легкодоступность всего оборудования ', '7', '0.7', '4.9'], ['Развитие бренда до мирового класса', 'Повышение качества товара, обслуживания, реклама ', '6', '0.4', '2.4'], ['Доставка', 'Досавка по городу, почтой по стране ', '7', '0.8', '5.6'], ['threats', '', '', '', ''], ['name', 'actions', 'importance', 'probability', 'power'], ['Большая конкуренция', 'Улучшение качества обслуживание покупателей, приемлемые цены, акции, распродажи, оформление соц сетей', '6', '0.8', '4.8'], ['Недобросовестные клиенты', 'Охрана в магазине', '5', '0.5', '2.5'], ['Пандемия ', 'Онлайн продажи, доставка, введение соц сетей', '4', '0.3', '1.2'], ['Угроза появления субститутов (заменителей )', 'Угрозы практически нет, ассортимент везде примерно одинаковый ', '1', '0.1', '0.1'], ['', '', '', '', ''], ['', '', '', '', ''], ['', '', '', '', ''], ['', '', '', '', ''], ['', '', '', '', ''], ['', '', '', '', ''], ['', '', '', '', ''], ['', '', '', '', ''], ['', '', '', '', ''], ['', '', '', '', ''], ['', '', '', '', ''], ['', '', '', '', ''], ['', '', '', '', ''], ['', '', '', '', ''], ['', '', '', '', ''], ['', '', '', '', ''], ['', '', '', '', ''], ['strength 4', 'weakness 4', 'opportunities 4', 'threats 4', ''], ['sum power 0', 'Probability of good result 0.5', '', '', '']]\n",
            "['4.2', '7.2', '6.4', '9.9', 0, 0]\n",
            "['5.6', '4.9', '2.4', '5.6', 0, 0]\n",
            "['3', '3.2', '0.1', '2', 0, 0]\n",
            "['4.8', '2.5', '1.2', '0.1', 0, 0]\n",
            "[1, 2, 3, 4, 5] ['strengths', 'weaknesses', 'opportunities', 'threats', 'result'] [27.700000000000003, -8.3, 18.5, -8.6, 29.300000000000004]\n",
            "списки формированы-->\n",
            "\n",
            "<!--разбивка по абсцисс и значения ординат\n",
            " 5 [0, 1, 2, 3, 4] [27.700000000000003, -8.3, 18.5, -8.6, 29.300000000000004]  -->\n",
            "\n"
          ],
          "name": "stdout"
        },
        {
          "output_type": "display_data",
          "data": {
            "image/png": "[encoded data removed]",
            "text/plain": [
              "<Figure size 576x432 with 1 Axes>"
            ]
          },
          "metadata": {
            "tags": [],
            "needs_background": "light"
          }
        },
        {
          "output_type": "stream",
          "text": [
            "<div class=\"d-flex flex-row \">\n",
            "<div class=\"card m-1\" style=\"width: 28rem;\"> <img  src=\"/content/drive/MyDrive/Colab Notebooks/project/shopbar_swot.png\" class=\"card-img-top\" alt=\"...\"> <div class=\"card-body\">\n",
            "1  -  strengths ; \n",
            "2  -  weaknesses ; \n",
            "3  -  opportunities ; \n",
            "4  -  threats ; \n",
            "5  -  result ; \n",
            "</div> </div>\n",
            "<div>\n"
          ],
          "name": "stdout"
        }
      ]
    }
  ]
}